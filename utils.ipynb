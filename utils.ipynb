{
 "cells": [
  {
   "cell_type": "code",
   "execution_count": 17,
   "metadata": {},
   "outputs": [],
   "source": [
    "\n",
    "import matplotlib.pyplot as plt\n",
    "\n",
    "##### Debug augmented images\n",
    "\n",
    "def debug_augmented_images(train_generator):\n",
    "\n",
    "  x_batch, _ = next(train_generator)\n",
    "  x_batch = x_batch * 255\n",
    "  plt.figure(figsize=(14, 7))\n",
    "  for i in range(0, 10):\n",
    "      plt.subplot(2, 5, i+1)\n",
    "      plt.imshow(x_batch[i].astype('uint8'))\n",
    "      plt.axis('off')\n",
    "  plt.tight_layout()\n",
    "  plt.show()\n"
   ]
  },
  {
   "cell_type": "code",
   "execution_count": 18,
   "metadata": {},
   "outputs": [],
   "source": [
    "import numpy as np\n",
    "import matplotlib.pyplot as plt\n",
    "\n",
    "\n",
    "def debug_model_prediction(validation_generator, model):\n",
    "  # Get the class indices\n",
    "  class_indices = validation_generator.class_indices\n",
    "\n",
    "  # Convert the dictionary of class indices to a list of class names, sorted by their index value\n",
    "  class_names = list(class_indices.keys())\n",
    "\n",
    "  for batch, (images, labels) in enumerate(validation_generator):\n",
    "      \n",
    "\n",
    "      # Make predictions\n",
    "      predictions = model.predict(images)\n",
    "      predicted_classes = np.argmax(predictions, axis=1)\n",
    "      true_classes = np.argmax(labels, axis=1)\n",
    "      \n",
    "      images_display = images * 255\n",
    "      images_display = images_display.astype(np.uint8)\n",
    "      \n",
    "      # Plot the images and the predicted vs true labels\n",
    "      plt.figure(figsize=(10, 9))\n",
    "      for i in range(images_display.shape[0]):\n",
    "          plt.subplot(4, 8, i + 1)\n",
    "          plt.imshow(images_display[i].astype(\"uint8\"))\n",
    "          plt.title(f\"Pred: {class_names[predicted_classes[i]]}\\nTrue: {class_names[true_classes[i]]}\")\n",
    "          plt.axis(\"off\")\n",
    "      \n",
    "      plt.tight_layout()\n",
    "      plt.show()\n",
    "      \n",
    "      # Breaking after the first batch\n",
    "      break"
   ]
  }
 ],
 "metadata": {
  "kernelspec": {
   "display_name": "tff",
   "language": "python",
   "name": "python3"
  },
  "language_info": {
   "codemirror_mode": {
    "name": "ipython",
    "version": 3
   },
   "file_extension": ".py",
   "mimetype": "text/x-python",
   "name": "python",
   "nbconvert_exporter": "python",
   "pygments_lexer": "ipython3",
   "version": "3.9.18"
  }
 },
 "nbformat": 4,
 "nbformat_minor": 2
}
